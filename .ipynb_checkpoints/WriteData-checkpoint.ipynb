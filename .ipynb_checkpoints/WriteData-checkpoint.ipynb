{
 "cells": [
  {
   "cell_type": "code",
   "execution_count": null,
   "id": "42c9ada5",
   "metadata": {},
   "outputs": [],
   "source": [
    "import csv\n",
    "from psutil import *\n",
    "import random\n",
    "import time\n",
    "\n",
    "\n",
    "fieldnames = ['x', \"CPU-1\",\"CPU-2\", \"CPU-3\", \"CPU-4\"]\n",
    "\n",
    "with open('data.csv', 'w') as csv_file:\n",
    "    csv_writer = csv.DictWriter(csv_file, fieldnames = fieldnames)\n",
    "    csv_writer.writeheader()\n",
    "count= 0\n",
    "while True:\n",
    "    lt = cpu_percent(interval=1, percpu=True)\n",
    "    print(lt)\n",
    "    with open('data.csv', 'a') as csv_file:\n",
    "        csv_writer = csv.DictWriter(csv_file, fieldnames = fieldnames)\n",
    "        \n",
    "        info = {\n",
    "            'x': count,\n",
    "            \"CPU-1\": lt[0],\n",
    "            \"CPU-2\": lt[1], \n",
    "            \"CPU-3\": lt[2],\n",
    "            \"CPU-4\": lt[3]\n",
    "        }        \n",
    "        csv_writer.writerow(info)\n",
    "    count+=1\n",
    "#     time.sleep(1)"
   ]
  },
  {
   "cell_type": "code",
   "execution_count": null,
   "id": "eea7864a",
   "metadata": {
    "scrolled": true
   },
   "outputs": [],
   "source": [
    "# import csv\n",
    "# from psutil import *\n",
    "# import random\n",
    "# import time\n",
    "\n",
    "\n",
    "# c1 = 0\n",
    "# c2 = 1000\n",
    "# c = 1000\n",
    "\n",
    "# fieldnames = [\"CPU-1\",\"CPU-2\", \"CPU-3\", \"CPU-4\"]\n",
    "\n",
    "# with open('data.csv', 'w') as csv_file:\n",
    "#     csv_writer = csv.DictWriter(csv_file, fieldnames = fieldnames)\n",
    "#     csv_writer.writeheader()\n",
    " \n",
    "\n",
    "# while True:\n",
    "#     with open('data.csv', 'a') as csv_file:\n",
    "#         csv_writer = csv.DictWriter(csv_file, fieldnames = fieldnames)\n",
    "        \n",
    "#         info = {\n",
    "#             \"x_value\": x_value,\n",
    "#             \"total_1\": total_1, \n",
    "#             \"total_2\": total_2\n",
    "#         }\n",
    "        \n",
    "#         csv_writer.writerow(info)\n",
    "#         print(x_value, total_1, total_2)\n",
    "        \n",
    "#         x_value += 1\n",
    "#         total_1 += random.randint(-6, 8)\n",
    "#         total_2 += random.randint(-5, 6)\n",
    "#     time.sleep(1)"
   ]
  },
  {
   "cell_type": "code",
   "execution_count": null,
   "id": "d41e3c2b",
   "metadata": {},
   "outputs": [],
   "source": []
  }
 ],
 "metadata": {
  "kernelspec": {
   "display_name": "Python 3",
   "language": "python",
   "name": "python3"
  },
  "language_info": {
   "codemirror_mode": {
    "name": "ipython",
    "version": 3
   },
   "file_extension": ".py",
   "mimetype": "text/x-python",
   "name": "python",
   "nbconvert_exporter": "python",
   "pygments_lexer": "ipython3",
   "version": "3.8.8"
  }
 },
 "nbformat": 4,
 "nbformat_minor": 5
}
